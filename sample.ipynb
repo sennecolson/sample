{
 "cells": [
  {
   "cell_type": "markdown",
   "metadata": {},
   "source": [
    "# Sample Notebook\n",
    "This is a sample notebook, which should be converted to a Python file."
   ]
  },
  {
   "cell_type": "markdown",
   "metadata": {},
   "source": [
    "## Markdown cells\n",
    "What should we do with Markdown cells? Two options:\n",
    "- Ignore them\n",
    "- Convert them to a comment in the Python script"
   ]
  },
  {
   "cell_type": "markdown",
   "metadata": {},
   "source": [
    "## Code cells\n",
    "What should we do with code cells?  \n",
    "Code cells should always be converted to code in the Python script."
   ]
  },
  {
   "cell_type": "code",
   "execution_count": null,
   "metadata": {},
   "outputs": [],
   "source": [
    "# This is an example of a code cell.\n",
    "def greet(name: str):\n",
    "    print(f\"Hello, {name}\")\n",
    "\n",
    "greet(\"World\")"
   ]
  }
 ],
 "metadata": {
  "language_info": {
   "name": "python"
  }
 },
 "nbformat": 4,
 "nbformat_minor": 2
}
